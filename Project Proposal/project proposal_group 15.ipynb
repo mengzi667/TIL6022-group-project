{
 "cells": [
  {
   "cell_type": "markdown",
   "metadata": {},
   "source": [
    "# Analysis and Prediction of Air Traffic Volume in the Netherlands Post-COVID-19"
   ]
  },
  {
   "cell_type": "markdown",
   "metadata": {},
   "source": [
    "# Project Group - group 15\n",
    "\n",
    "**Members & Student numbers:**\n",
    "- Xinyu Yang 6302750\n",
    "- Minghao Li 6212999\n",
    "- Yue Guo 6147275\n",
    "- Yumeng Pan 6134130\n",
    "- Yilin Shi 6140343"
   ]
  },
  {
   "cell_type": "markdown",
   "metadata": {},
   "source": [
    "## 1. Introduction\n",
    "The COVID-19 pandemic had profound impacts on global air traffic. In the Netherlands, travel restrictions and behavioral changes led to substantial shifts in air traffic volume. As the country gradually reopened, the recovery process revealed varying patterns across different types of flights and travel groups. \\\n",
    "By analyzing historical traffic patterns, this project will explore the variations in recovery across different flight modes, while also building a predictive model to forecast how future pandemics or disruptions might impact the aviation sector. Understanding these changes and predicting future traffic volume in the face of possible new pandemics or other disruptions is crucial for air traffic management and policy-making. "
   ]
  },
  {
   "cell_type": "markdown",
   "metadata": {},
   "source": [
    "## 2. Research Objectives\n",
    "This project aims to analyze these changes by comparing traffic volumes before, during, and after the pandemic, focusing on different types of flights (e.g., domestic, international, passenger, cargo). Additionally, it will forecast the potential impact of future pandemics on air traffic based on historical data, providing insights for aviation management and policy decisions."
   ]
  },
  {
   "cell_type": "markdown",
   "metadata": {},
   "source": [
    "## 3. Research Questions (RQs)\n",
    "### RQ1: What is the impact of the monthly number of new cases before, during, and after the COVID-19 pandemic on different flight types (e.g. cross-country and local flights) in the Netherlands?\n",
    "\n",
    "### RQ2: What is the impact of the monthly number of new cases before, during, and after the COVID-19 pandemic on the numbers of passengers, cargo, and mail in the Netherlands?\n",
    "\n",
    "\n",
    "### RQ3: The prediction of future air traffic patterns in response to potential pandemic or disruptions based on existing data."
   ]
  },
  {
   "cell_type": "markdown",
   "metadata": {},
   "source": [
    "## 4. Data Pipeline and Methodology\n",
    "**Our World in Data (OWID) COVID-19 Dataset:**\n",
    "   Pandemic-related data including new cases in each month will be used to correlate air traffic pattern variation.\n",
    "   [https://ourworldindata.org/coronavirus](https://ourworldindata.org/coronavirus) \n",
    "\n",
    "**CBS (Statistics Netherlands) Open Data:**\n",
    "  This source is used to research the variation across different flight modes and the numbers of passengers, cargo, and mail through the COVID period.\n",
    "  [https://opendata.cbs.nl/statline/#/CBS/en/dataset/37478eng/table?ts=1728287180831](https://opendata.cbs.nl/statline/#/CBS/en/dataset/37478eng/table?ts=1728287180831)  \n",
    "### Data Collection:\n",
    "- Retrieve the CBS traffic data using the CBS StatLine portal, focusing on air traffic data for different flight types (local flights, cross-country flights, passenger, cargo, etc.).\n",
    "- Extract COVID-19 case counts from Our World in Data.\n",
    "\n",
    "### Data Cleaning:\n",
    "- Handle missing values, smooth outliers in both air traffic and pandemic datasets.\n",
    "- Ensure consistency in time intervals and align air traffic data with pandemic measures.\n",
    "\n",
    "### Data Merging and Integration:\n",
    "- Merge the two datasets by time (e.g., weekly or monthly intervals), enabling analysis of how air traffic volume changes relate to cases per million people.\n",
    "- Change the air traffic dataset from a weekly format to a monthly format.\n",
    "\n",
    "### Data Analysis:\n",
    "\n",
    "#### Correlation Analysis:\n",
    "Correlation analysis will be employed to identify whether there is an interpretable relationship between infection cases and air traffic data. This project will use historical data to calculate the correlation parameter, forming the foundation for establishing the following prediction model.\n",
    "\n",
    "#### Linear Regression:\n",
    "Linear regression will be employed to establish a simple, interpretable relationship between infection rates and transportation volume. The model will use historical data to fit a linear equation, allowing us to estimate future transportation volumes under similar conditions.\n",
    "\n",
    "#### Prediction Model:\n",
    "A prediction model will be developed to predict future transportation volumes in the event of similar pandemics. This model will use historical data and trends to define rules that estimate the impact of future pandemics on air traffic patterns. The model will be based on past patterns and relationships between infection rates and transportation volumes, making it a simple yet effective tool for forecasting."
   ]
  },
  {
   "cell_type": "markdown",
   "metadata": {},
   "source": [
    "## 5. Deliverables\n",
    "- **Analytical Report:** A detailed report of the air traffic recovery pattern analysis.\n",
    "- **Predictive Model:** A model predicting air traffic performance in case of future pandemics or disruptions.\n",
    "- **Visualizations:** Graphs and charts to illustrate air traffic recovery trends and predictive analysis results."
   ]
  }
 ],
 "metadata": {
  "kernelspec": {
   "display_name": "Python 3 (ipykernel)",
   "language": "python",
   "name": "python3"
  },
  "language_info": {
   "codemirror_mode": {
    "name": "ipython",
    "version": 3
   },
   "file_extension": ".py",
   "mimetype": "text/x-python",
   "name": "python",
   "nbconvert_exporter": "python",
   "pygments_lexer": "ipython3",
   "version": "3.12.3"
  },
  "vscode": {
   "interpreter": {
    "hash": "31f2aee4e71d21fbe5cf8b01ff0e069b9275f58929596ceb00d14d90e3e16cd6"
   }
  }
 },
 "nbformat": 4,
 "nbformat_minor": 2
}
