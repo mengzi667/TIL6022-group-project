{
 "cells": [
  {
   "cell_type": "markdown",
   "metadata": {},
   "source": [
    "# Traffic Volume Recovery Patterns in the Netherlands: Analysis and Prediction Post-COVID-19 Pandemic"
   ]
  },
  {
   "cell_type": "markdown",
   "metadata": {},
   "source": [
    "# Project Group - group 15\n",
    "\n",
    "**Members & Student numbers:**\n",
    "- Xinyu Yang 6302750\n",
    "- Minghao Li 6212999\n",
    "- Yue Guo 6147275\n",
    "- Yumeng Pan 6134130\n",
    "- Yilin Shi 6140343"
   ]
  },
  {
   "cell_type": "markdown",
   "metadata": {},
   "source": [
    "## 1. Introduction\n",
    "The COVID-19 pandemic had profound impacts on global traffic patterns and transportation systems. In the Netherlands, mobility restrictions, remote work policies, and changes in public behavior resulted in significant variations and fluctuations in traffic modes and volumes. Understanding these changes and predicting future traffic patterns in the face of possible new pandemics or other disruptions is crucial for urban planning, public transport management, and policymaking."
   ]
  },
  {
   "cell_type": "markdown",
   "metadata": {},
   "source": [
    "## 2. Research Objectives\n",
    "This project aims to analyze the changes in transportation modes and traffic volumes before, during, and after the pandemic with a specific focus on the Netherlands. Additionally, it will examine the impacts on different population groups, considering factors such as age and income. This project will also provide predictive models to forecast future public transportation patterns in similar contexts."
   ]
  },
  {
   "cell_type": "markdown",
   "metadata": {},
   "source": [
    "## 3. Research Questions (RQs)\n",
    "### RQ1: What is the impact of the pandemic on different transportation modes?\n",
    "By comparing pre-pandemic, during-pandemic, and post-pandemic traffic volumes, this study will reveal the changes in different transportation modes (car, train, bus/tram/metro, bike, walking). Time series analysis will be conducted to identify trends and patterns.\n",
    "\n",
    "### RQ2: What is the impact of the pandemic on different traveling population groups?\n",
    "By comparing traffic volumes and the mobility behavior of various population groups (classified by age, income, etc.), we will explore the disparities and trends in mobility recovery. Data clustering and time series analysis will help reveal group-specific travel mode choices.\n",
    "\n",
    "### RQ3: How can we predict the impact of a future pandemic on public transport (targeted prediction)?\n",
    "Using part of the existing data for training predictive models and another part for validation, the study will make simple predictions for future public transport behavior in case of another pandemic. The prediction will focus on creating a model based on historical data to estimate future public transport volume and recovery rates."
   ]
  },
  {
   "cell_type": "markdown",
   "metadata": {},
   "source": [
    "## 4. Data Pipeline and Methodology\n",
    "**Our World in Data (OWID) COVID-19 Dataset:**\n",
    "   Pandemic-related data, including infection rates and vaccination rates. These variables will be used to correlate traffic recovery with public health indicators.\n",
    "   [https://ourworldindata.org/coronavirus](https://ourworldindata.org/coronavirus) \n",
    "\n",
    "**CBS (Statistics Netherlands) Open Data:**\n",
    "  We use this source to research the impact of the pandemic on different travel modes and traveling population groups based on various characteristics.\n",
    "  [https://opendata.cbs.nl/statline/#/CBS/en/dataset/84709ENG/table?ts=1727855028156](https://opendata.cbs.nl/statline/#/CBS/en/dataset/84709ENG/table?ts=1727855028156)  \n",
    "### Data Collection:\n",
    "- Retrieve the CBS traffic data using the CBS StatLine portal, focusing on the time series related to traffic modes (private cars, public transport, bikes, etc.).\n",
    "- Extract COVID-19 case counts, death rates, etc., from Our World in Data.\n",
    "\n",
    "### Data Cleaning:\n",
    "- Handle missing values, smooth outliers in both traffic and pandemic datasets.\n",
    "- Ensure consistency in time intervals and align traffic data with pandemic measures (e.g., comparing weekly or monthly trends).\n",
    "\n",
    "### Data Merging and Integration:\n",
    "- Merge the two datasets by time (e.g., weekly or monthly intervals), enabling analysis of how traffic volume changes relate to cases per million people.\n",
    "\n",
    "### Data Analysis:\n",
    "\n",
    "#### Group Analysis:\n",
    "Analyze transportation data across various dimensions, including age and income categories, as well as different traffic modes to explore how diverse population groups and modes of transport adapted their mobility behaviors during and after the pandemic. Statistical analysis will reveal recovery conditions among these groups, highlighting any significant behavioral differences.\n",
    "\n",
    "#### Linear Regression Model:\n",
    "A linear regression model will be employed to establish a simple interpretable relationship between infection rates and transportation volume. The model will use historical data to fit a linear equation, allowing us to estimate future transportation volumes under similar conditions.\n",
    "\n",
    "#### Prediction Model:\n",
    "A prediction model will be developed to predict future transportation volumes in the event of similar pandemics. This model will use historical data and trends to define rules that estimate the impact of future pandemics on public transportation. The model will be based on past patterns and relationships between infection rates and transportation volumes, making it a simple yet effective tool for forecasting."
   ]
  },
  {
   "cell_type": "markdown",
   "metadata": {},
   "source": [
    "## 5. Deliverables\n",
    "- **Analytical Report:** A detailed report of the traffic volume analysis and demographic mobility patterns.\n",
    "- **Predictive Model:** A model predicting public transport volumes in case of future pandemics.\n",
    "- **Visualizations:** Graphs and charts to illustrate traffic volume recovery trends and predictive analysis results."
   ]
  }
 ],
 "metadata": {
  "kernelspec": {
   "display_name": "Python 3 (ipykernel)",
   "language": "python",
   "name": "python3"
  },
  "language_info": {
   "codemirror_mode": {
    "name": "ipython",
    "version": 3
   },
   "file_extension": ".py",
   "mimetype": "text/x-python",
   "name": "python",
   "nbconvert_exporter": "python",
   "pygments_lexer": "ipython3",
   "version": "3.12.5"
  },
  "vscode": {
   "interpreter": {
    "hash": "31f2aee4e71d21fbe5cf8b01ff0e069b9275f58929596ceb00d14d90e3e16cd6"
   }
  }
 },
 "nbformat": 4,
 "nbformat_minor": 2
}
